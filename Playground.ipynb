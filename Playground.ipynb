{
 "cells": [
  {
   "cell_type": "code",
   "execution_count": 1,
   "metadata": {
    "collapsed": false
   },
   "outputs": [],
   "source": [
    "import numpy as np\n",
    "import matplotlib.pyplot as plt\n",
    "import pywt\n",
    "import dataprep as dp\n",
    "import helping as H\n",
    "from scipy import signal, stats"
   ]
  },
  {
   "cell_type": "code",
   "execution_count": 2,
   "metadata": {
    "collapsed": false
   },
   "outputs": [],
   "source": [
    "files = ['state_0_day_3.csv', 'state_0_day_4.csv',\n",
    "         'state_1_day_3.csv', 'state_1_day_4.csv',\n",
    "         'state_2_day_3.csv', 'state_2_day_4.csv']\n",
    "dataset = dp.load_files(files, dir='files/')"
   ]
  },
  {
   "cell_type": "code",
   "execution_count": 12,
   "metadata": {
    "collapsed": false,
    "scrolled": true
   },
   "outputs": [
    {
     "data": {
      "text/plain": [
       "array([[ -2.62500000e-05,   8.37500000e-06,  -7.89359504e-06,\n",
       "         -6.50000000e-06,  -1.21250000e-05,  -1.25000000e-05,\n",
       "         -2.62500000e-06,   9.87500000e-06,   7.41849064e-06],\n",
       "       [ -2.27500000e-05,   2.11250000e-05,  -6.42561983e-07,\n",
       "          2.50000000e-07,   2.25000000e-06,  -5.75000000e-06,\n",
       "          5.00000000e-06,   1.07500000e-05,   8.98600418e-06],\n",
       "       [ -2.75000000e-05,   3.17500000e-05,   2.45661157e-06,\n",
       "          3.75000000e-07,  -3.50000000e-06,  -1.01250000e-05,\n",
       "          1.55000000e-05,   2.56250000e-05,   1.51005387e-05],\n",
       "       [ -2.05000000e-05,   2.98750000e-05,   2.06198347e-06,\n",
       "          1.50000000e-06,   1.32500000e-05,  -1.13750000e-05,\n",
       "          1.47500000e-05,   2.61250000e-05,   1.40954000e-05],\n",
       "       [ -1.90000000e-05,   2.67500000e-05,   1.94834711e-06,\n",
       "          2.00000000e-06,  -6.87500000e-06,  -6.12500000e-06,\n",
       "          9.50000000e-06,   1.56250000e-05,   9.77159969e-06],\n",
       "       [ -2.03750000e-05,   2.17500000e-05,   1.76033058e-06,\n",
       "          2.00000000e-06,  -1.11250000e-05,  -7.00000000e-06,\n",
       "          1.00000000e-05,   1.70000000e-05,   9.82471093e-06],\n",
       "       [ -2.60000000e-05,   4.72500000e-05,   2.51239669e-06,\n",
       "         -1.62500000e-06,  -1.41250000e-05,  -1.32500000e-05,\n",
       "          1.68750000e-05,   3.01250000e-05,   1.80185955e-05],\n",
       "       [ -2.81250000e-05,   4.28750000e-05,   2.45661157e-06,\n",
       "          7.50000000e-07,  -2.00000000e-05,  -1.35000000e-05,\n",
       "          1.58750000e-05,   2.93750000e-05,   1.72931004e-05]])"
      ]
     },
     "execution_count": 12,
     "metadata": {},
     "output_type": "execute_result"
    }
   ],
   "source": [
    "t = dataset[0][:,:121]\n",
    "xf = np.asarray([H.five_number_summary(i) for i in t])\n",
    "xf"
   ]
  },
  {
   "cell_type": "code",
   "execution_count": 4,
   "metadata": {
    "collapsed": false
   },
   "outputs": [
    {
     "data": {
      "text/plain": [
       "0"
      ]
     },
     "execution_count": 4,
     "metadata": {},
     "output_type": "execute_result"
    }
   ],
   "source": [
    "stats.mode(np.arange(100))[0][0]"
   ]
  }
 ],
 "metadata": {
  "kernelspec": {
   "display_name": "Python 3",
   "language": "python",
   "name": "python3"
  },
  "language_info": {
   "codemirror_mode": {
    "name": "ipython",
    "version": 3
   },
   "file_extension": ".py",
   "mimetype": "text/x-python",
   "name": "python",
   "nbconvert_exporter": "python",
   "pygments_lexer": "ipython3",
   "version": "3.5.2"
  }
 },
 "nbformat": 4,
 "nbformat_minor": 0
}
